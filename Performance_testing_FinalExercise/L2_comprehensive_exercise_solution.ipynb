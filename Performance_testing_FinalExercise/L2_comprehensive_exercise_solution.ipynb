{
 "cells": [
  {
   "cell_type": "markdown",
   "id": "045e6885-f8b4-492c-967c-3ef372c20204",
   "metadata": {},
   "source": [
    "# Data Slicing Performance"
   ]
  },
  {
   "cell_type": "markdown",
   "id": "d61f6c1d-278f-4bd6-a21e-38465892b625",
   "metadata": {},
   "source": [
    "Exercise repository: [Performance_testing_FinalExercise](https://github.com/mxagar/mlops-udacity-deployment-demos/tree/main/Performance_testing_FinalExercise).\n",
    "\n",
    "In this exercise the [Raisin dataset](https://archive.ics.uci.edu/ml/datasets/Raisin+Dataset) is used. In it, 900 observations of 7 raising features (all numerical) are collected; each observation has a target class which specifies one of two types of raisins: 'Kecimen' or 'Besni'.\n",
    "\n",
    "Data slicing is applied manually to the dataset as follows:\n",
    "\n",
    "- Data is split: `train`, `validation`.\n",
    "- Logistic regression model is fit and F1 is computed: overall score.\n",
    "- 3 features are chosen and their mean is computed; then, 2 buckets or ranges are defined for each of the 3 features: above and below the mean. Thus, we get 3x2 = 6 slices.\n",
    "- For each slice, the F1 metric is computed again and compared to the overall F1.\n",
    "- Finally, a model card is written."
   ]
  },
  {
   "cell_type": "code",
   "execution_count": 1,
   "id": "outstanding-navigator",
   "metadata": {},
   "outputs": [],
   "source": [
    "import pandas as pd\n",
    "from sklearn.linear_model import LogisticRegression\n",
    "from sklearn.model_selection import train_test_split\n",
    "from sklearn.preprocessing import LabelBinarizer\n",
    "from sklearn.metrics import classification_report, f1_score"
   ]
  },
  {
   "cell_type": "code",
   "execution_count": 14,
   "id": "automated-welsh",
   "metadata": {},
   "outputs": [],
   "source": [
    "data = pd.read_csv(\"./exercise_data/Raisin_Dataset.csv\")"
   ]
  },
  {
   "cell_type": "code",
   "execution_count": 15,
   "id": "e4827e52-1792-4840-bdc8-651f11f0a576",
   "metadata": {},
   "outputs": [
    {
     "data": {
      "text/html": [
       "<div>\n",
       "<style scoped>\n",
       "    .dataframe tbody tr th:only-of-type {\n",
       "        vertical-align: middle;\n",
       "    }\n",
       "\n",
       "    .dataframe tbody tr th {\n",
       "        vertical-align: top;\n",
       "    }\n",
       "\n",
       "    .dataframe thead th {\n",
       "        text-align: right;\n",
       "    }\n",
       "</style>\n",
       "<table border=\"1\" class=\"dataframe\">\n",
       "  <thead>\n",
       "    <tr style=\"text-align: right;\">\n",
       "      <th></th>\n",
       "      <th>Area</th>\n",
       "      <th>MajorAxisLength</th>\n",
       "      <th>MinorAxisLength</th>\n",
       "      <th>Eccentricity</th>\n",
       "      <th>ConvexArea</th>\n",
       "      <th>Extent</th>\n",
       "      <th>Perimeter</th>\n",
       "      <th>Class</th>\n",
       "    </tr>\n",
       "  </thead>\n",
       "  <tbody>\n",
       "    <tr>\n",
       "      <th>0</th>\n",
       "      <td>87524</td>\n",
       "      <td>442.246011</td>\n",
       "      <td>253.291155</td>\n",
       "      <td>0.819738</td>\n",
       "      <td>90546</td>\n",
       "      <td>0.758651</td>\n",
       "      <td>1184.040</td>\n",
       "      <td>Kecimen</td>\n",
       "    </tr>\n",
       "    <tr>\n",
       "      <th>1</th>\n",
       "      <td>75166</td>\n",
       "      <td>406.690687</td>\n",
       "      <td>243.032436</td>\n",
       "      <td>0.801805</td>\n",
       "      <td>78789</td>\n",
       "      <td>0.684130</td>\n",
       "      <td>1121.786</td>\n",
       "      <td>Kecimen</td>\n",
       "    </tr>\n",
       "    <tr>\n",
       "      <th>2</th>\n",
       "      <td>90856</td>\n",
       "      <td>442.267048</td>\n",
       "      <td>266.328318</td>\n",
       "      <td>0.798354</td>\n",
       "      <td>93717</td>\n",
       "      <td>0.637613</td>\n",
       "      <td>1208.575</td>\n",
       "      <td>Kecimen</td>\n",
       "    </tr>\n",
       "    <tr>\n",
       "      <th>3</th>\n",
       "      <td>45928</td>\n",
       "      <td>286.540559</td>\n",
       "      <td>208.760042</td>\n",
       "      <td>0.684989</td>\n",
       "      <td>47336</td>\n",
       "      <td>0.699599</td>\n",
       "      <td>844.162</td>\n",
       "      <td>Kecimen</td>\n",
       "    </tr>\n",
       "    <tr>\n",
       "      <th>4</th>\n",
       "      <td>79408</td>\n",
       "      <td>352.190770</td>\n",
       "      <td>290.827533</td>\n",
       "      <td>0.564011</td>\n",
       "      <td>81463</td>\n",
       "      <td>0.792772</td>\n",
       "      <td>1073.251</td>\n",
       "      <td>Kecimen</td>\n",
       "    </tr>\n",
       "  </tbody>\n",
       "</table>\n",
       "</div>"
      ],
      "text/plain": [
       "    Area  MajorAxisLength  MinorAxisLength  Eccentricity  ConvexArea  \\\n",
       "0  87524       442.246011       253.291155      0.819738       90546   \n",
       "1  75166       406.690687       243.032436      0.801805       78789   \n",
       "2  90856       442.267048       266.328318      0.798354       93717   \n",
       "3  45928       286.540559       208.760042      0.684989       47336   \n",
       "4  79408       352.190770       290.827533      0.564011       81463   \n",
       "\n",
       "     Extent  Perimeter    Class  \n",
       "0  0.758651   1184.040  Kecimen  \n",
       "1  0.684130   1121.786  Kecimen  \n",
       "2  0.637613   1208.575  Kecimen  \n",
       "3  0.699599    844.162  Kecimen  \n",
       "4  0.792772   1073.251  Kecimen  "
      ]
     },
     "execution_count": 15,
     "metadata": {},
     "output_type": "execute_result"
    }
   ],
   "source": [
    "data.head()"
   ]
  },
  {
   "cell_type": "code",
   "execution_count": 16,
   "id": "d6231625-2efe-4706-abf3-b9691a25fc50",
   "metadata": {},
   "outputs": [
    {
     "data": {
      "text/plain": [
       "(900, 8)"
      ]
     },
     "execution_count": 16,
     "metadata": {},
     "output_type": "execute_result"
    }
   ],
   "source": [
    "data.head()"
   ]
  },
  {
   "cell_type": "code",
   "execution_count": 17,
   "id": "5a14a58d-ffcd-46a8-8178-bb52ffa9a0f9",
   "metadata": {},
   "outputs": [
    {
     "data": {
      "text/plain": [
       "array(['Kecimen', 'Besni'], dtype=object)"
      ]
     },
     "execution_count": 17,
     "metadata": {},
     "output_type": "execute_result"
    }
   ],
   "source": [
    "data.Class.unique()"
   ]
  },
  {
   "cell_type": "code",
   "execution_count": 11,
   "id": "cc40f4c4-f045-460a-beba-a829d2904847",
   "metadata": {},
   "outputs": [],
   "source": [
    "# Take features + target\n",
    "y = data.pop(\"Class\")\n",
    "\n",
    "# Split the data into train and validation, stratifying on the target feature.\n",
    "X_train, X_val, y_train, y_val = train_test_split(data, y, stratify=y, random_state=23)"
   ]
  },
  {
   "cell_type": "code",
   "execution_count": 3,
   "id": "human-planning",
   "metadata": {},
   "outputs": [
    {
     "data": {
      "text/html": [
       "<div>\n",
       "<style scoped>\n",
       "    .dataframe tbody tr th:only-of-type {\n",
       "        vertical-align: middle;\n",
       "    }\n",
       "\n",
       "    .dataframe tbody tr th {\n",
       "        vertical-align: top;\n",
       "    }\n",
       "\n",
       "    .dataframe thead th {\n",
       "        text-align: right;\n",
       "    }\n",
       "</style>\n",
       "<table border=\"1\" class=\"dataframe\">\n",
       "  <thead>\n",
       "    <tr style=\"text-align: right;\">\n",
       "      <th></th>\n",
       "      <th>Area</th>\n",
       "      <th>MajorAxisLength</th>\n",
       "      <th>MinorAxisLength</th>\n",
       "      <th>Eccentricity</th>\n",
       "      <th>ConvexArea</th>\n",
       "      <th>Extent</th>\n",
       "      <th>Perimeter</th>\n",
       "    </tr>\n",
       "  </thead>\n",
       "  <tbody>\n",
       "    <tr>\n",
       "      <th>count</th>\n",
       "      <td>675.000000</td>\n",
       "      <td>675.000000</td>\n",
       "      <td>675.000000</td>\n",
       "      <td>675.000000</td>\n",
       "      <td>675.000000</td>\n",
       "      <td>675.000000</td>\n",
       "      <td>675.000000</td>\n",
       "    </tr>\n",
       "    <tr>\n",
       "      <th>mean</th>\n",
       "      <td>87210.494815</td>\n",
       "      <td>427.650555</td>\n",
       "      <td>254.414345</td>\n",
       "      <td>0.779895</td>\n",
       "      <td>90407.262222</td>\n",
       "      <td>0.701092</td>\n",
       "      <td>1159.625772</td>\n",
       "    </tr>\n",
       "    <tr>\n",
       "      <th>std</th>\n",
       "      <td>38388.571707</td>\n",
       "      <td>110.506268</td>\n",
       "      <td>49.752074</td>\n",
       "      <td>0.088938</td>\n",
       "      <td>39602.352484</td>\n",
       "      <td>0.050807</td>\n",
       "      <td>261.820857</td>\n",
       "    </tr>\n",
       "    <tr>\n",
       "      <th>min</th>\n",
       "      <td>25387.000000</td>\n",
       "      <td>225.629541</td>\n",
       "      <td>144.618672</td>\n",
       "      <td>0.348730</td>\n",
       "      <td>26139.000000</td>\n",
       "      <td>0.454189</td>\n",
       "      <td>619.074000</td>\n",
       "    </tr>\n",
       "    <tr>\n",
       "      <th>25%</th>\n",
       "      <td>59032.500000</td>\n",
       "      <td>343.732369</td>\n",
       "      <td>218.692197</td>\n",
       "      <td>0.740516</td>\n",
       "      <td>61466.500000</td>\n",
       "      <td>0.671134</td>\n",
       "      <td>964.835500</td>\n",
       "    </tr>\n",
       "    <tr>\n",
       "      <th>50%</th>\n",
       "      <td>79057.000000</td>\n",
       "      <td>405.936594</td>\n",
       "      <td>247.352044</td>\n",
       "      <td>0.797864</td>\n",
       "      <td>81779.000000</td>\n",
       "      <td>0.709949</td>\n",
       "      <td>1117.107000</td>\n",
       "    </tr>\n",
       "    <tr>\n",
       "      <th>75%</th>\n",
       "      <td>103790.500000</td>\n",
       "      <td>493.185891</td>\n",
       "      <td>280.180509</td>\n",
       "      <td>0.840452</td>\n",
       "      <td>108022.500000</td>\n",
       "      <td>0.735886</td>\n",
       "      <td>1302.416500</td>\n",
       "    </tr>\n",
       "    <tr>\n",
       "      <th>max</th>\n",
       "      <td>235047.000000</td>\n",
       "      <td>843.956653</td>\n",
       "      <td>492.275279</td>\n",
       "      <td>0.923770</td>\n",
       "      <td>239093.000000</td>\n",
       "      <td>0.830632</td>\n",
       "      <td>2253.557000</td>\n",
       "    </tr>\n",
       "  </tbody>\n",
       "</table>\n",
       "</div>"
      ],
      "text/plain": [
       "                Area  MajorAxisLength  MinorAxisLength  Eccentricity  \\\n",
       "count     675.000000       675.000000       675.000000    675.000000   \n",
       "mean    87210.494815       427.650555       254.414345      0.779895   \n",
       "std     38388.571707       110.506268        49.752074      0.088938   \n",
       "min     25387.000000       225.629541       144.618672      0.348730   \n",
       "25%     59032.500000       343.732369       218.692197      0.740516   \n",
       "50%     79057.000000       405.936594       247.352044      0.797864   \n",
       "75%    103790.500000       493.185891       280.180509      0.840452   \n",
       "max    235047.000000       843.956653       492.275279      0.923770   \n",
       "\n",
       "          ConvexArea      Extent    Perimeter  \n",
       "count     675.000000  675.000000   675.000000  \n",
       "mean    90407.262222    0.701092  1159.625772  \n",
       "std     39602.352484    0.050807   261.820857  \n",
       "min     26139.000000    0.454189   619.074000  \n",
       "25%     61466.500000    0.671134   964.835500  \n",
       "50%     81779.000000    0.709949  1117.107000  \n",
       "75%    108022.500000    0.735886  1302.416500  \n",
       "max    239093.000000    0.830632  2253.557000  "
      ]
     },
     "execution_count": 3,
     "metadata": {},
     "output_type": "execute_result"
    }
   ],
   "source": [
    "# Get a high level overview of the data.\n",
    "# This will be useful for slicing: we take the mean values from here!\n",
    "X_train.describe()"
   ]
  },
  {
   "cell_type": "code",
   "execution_count": 4,
   "id": "different-blackjack",
   "metadata": {},
   "outputs": [
    {
     "data": {
      "text/plain": [
       "LogisticRegression(C=1.0, class_weight=None, dual=False, fit_intercept=True,\n",
       "                   intercept_scaling=1, l1_ratio=None, max_iter=1000,\n",
       "                   multi_class='auto', n_jobs=None, penalty='l2',\n",
       "                   random_state=23, solver='lbfgs', tol=0.0001, verbose=0,\n",
       "                   warm_start=False)"
      ]
     },
     "execution_count": 4,
     "metadata": {},
     "output_type": "execute_result"
    }
   ],
   "source": [
    "# Define and fit model\n",
    "lr = LogisticRegression(max_iter=1000, random_state=23)\n",
    "lb = LabelBinarizer()\n",
    "\n",
    "# Binarize the target feature.\n",
    "y_train = lb.fit_transform(y_train)\n",
    "y_val = lb.transform(y_val)\n",
    "\n",
    "# Train Logistic Regression.\n",
    "lr.fit(X_train, y_train.ravel())"
   ]
  },
  {
   "cell_type": "markdown",
   "id": "dutch-gregory",
   "metadata": {},
   "source": [
    "# Solution Code"
   ]
  },
  {
   "cell_type": "code",
   "execution_count": 5,
   "id": "knowing-ontario",
   "metadata": {},
   "outputs": [
    {
     "name": "stdout",
     "output_type": "stream",
     "text": [
      "              precision    recall  f1-score   support\n",
      "\n",
      "           0       0.90      0.86      0.88       112\n",
      "           1       0.86      0.90      0.88       113\n",
      "\n",
      "    accuracy                           0.88       225\n",
      "   macro avg       0.88      0.88      0.88       225\n",
      "weighted avg       0.88      0.88      0.88       225\n",
      "\n"
     ]
    }
   ],
   "source": [
    "# Use sklearn's classification report to get an overall view of our classifier.\n",
    "print(classification_report(y_val, lr.predict(X_val)))"
   ]
  },
  {
   "cell_type": "code",
   "execution_count": 6,
   "id": "formed-logistics",
   "metadata": {},
   "outputs": [
    {
     "name": "stdout",
     "output_type": "stream",
     "text": [
      "F1 score on MajorAxisLength slices:\n",
      "0.0\n",
      "0.9230769230769231\n",
      "\n",
      "F1 score on MinorAxisLength slices:\n",
      "0.65\n",
      "0.9319371727748692\n",
      "\n",
      "F1 score on ConvexArea slices:\n",
      "0.30769230769230765\n",
      "0.9174311926605505\n"
     ]
    }
   ],
   "source": [
    "print(\"F1 score on MajorAxisLength slices:\")\n",
    "row_slice = X_val[\"MajorAxisLength\"] >= 427.7\n",
    "print(f1_score(y_val[row_slice], lr.predict(X_val[row_slice])))\n",
    "\n",
    "row_slice = X_val[\"MajorAxisLength\"] < 427.7\n",
    "print(f1_score(y_val[row_slice], lr.predict(X_val[row_slice])))\n",
    "\n",
    "print(\"\\nF1 score on MinorAxisLength slices:\")\n",
    "row_slice = X_val[\"MinorAxisLength\"] >= 254.4\n",
    "print(f1_score(y_val[row_slice], lr.predict(X_val[row_slice])))\n",
    "\n",
    "row_slice = X_val[\"MinorAxisLength\"] < 254.4\n",
    "print(f1_score(y_val[row_slice], lr.predict(X_val[row_slice])))\n",
    "\n",
    "print(\"\\nF1 score on ConvexArea slices:\")\n",
    "row_slice = X_val[\"ConvexArea\"] >= 90407.3\n",
    "print(f1_score(y_val[row_slice], lr.predict(X_val[row_slice])))\n",
    "\n",
    "row_slice = X_val[\"ConvexArea\"] < 90407.3\n",
    "print(f1_score(y_val[row_slice], lr.predict(X_val[row_slice])))"
   ]
  },
  {
   "cell_type": "markdown",
   "id": "automatic-harmony",
   "metadata": {},
   "source": [
    "From the above slices, we see that our model seems to perform consistently better on raisins that are smaller than average versus ones that are larger than average.\n",
    "\n",
    "Looking at the summary statistics, we see that for nearly every measure the median is smaller than the mean. So more than 50% of our raisins are below the average which is also where our model is strongest. This indicates that we might want more data on larger raisins."
   ]
  },
  {
   "cell_type": "markdown",
   "id": "orange-atmosphere",
   "metadata": {},
   "source": [
    "## Model Card\n",
    "\n",
    "### Model Details\n",
    "\n",
    "Logistic Regresion model using default scikit-learn hyperparameters. Trained with sklearn version 0.24.1.\n",
    "\n",
    "### Intended Use\n",
    "\n",
    "For classifying two types of raisins from Turkey.\n",
    "\n",
    "### Metrics\n",
    "\n",
    "F1 classification with a macro average of 0.85, 0.84 for the minority class, and 0.85 for the majority class.\n",
    "\n",
    "When analyzing across data slices, model performance is higher for raisins below the average size and much lower for raisins above the average.\n",
    "\n",
    "### Data\n",
    "\n",
    "Raisin dataset acquired from the UCI Machine Learning Repository: https://archive.ics.uci.edu/ml/datasets/Raisin+Dataset\n",
    "\n",
    "Originally from: Cinar I., Koklu M. and Tasdemir S., Classification of Raisin Grains Using Machine Vision and Artificial Intelligence Methods. Gazi Journal of Engineering Sciences, vol. 6, no. 3, pp. 200-209, December, 2020.\n",
    "\n",
    "### Bias\n",
    "\n",
    "The majority of raisins are below the average size. This could be a potential source of bias but more subject matter expertise may be necessary. Note to students: this is a useful call out, and in a real-world scenario should prompt you to engage in collaboration with subject matter experts so you can flesh this out."
   ]
  },
  {
   "cell_type": "code",
   "execution_count": null,
   "id": "sharp-robin",
   "metadata": {},
   "outputs": [],
   "source": []
  },
  {
   "cell_type": "code",
   "execution_count": null,
   "id": "688a2c91-b80a-45d1-a3cc-eaf7b479fa92",
   "metadata": {},
   "outputs": [],
   "source": []
  }
 ],
 "metadata": {
  "kernelspec": {
   "display_name": "Python 3",
   "language": "python",
   "name": "python3"
  },
  "language_info": {
   "codemirror_mode": {
    "name": "ipython",
    "version": 3
   },
   "file_extension": ".py",
   "mimetype": "text/x-python",
   "name": "python",
   "nbconvert_exporter": "python",
   "pygments_lexer": "ipython3",
   "version": "3.6.3"
  }
 },
 "nbformat": 4,
 "nbformat_minor": 5
}
